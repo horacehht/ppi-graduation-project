{
 "cells": [
  {
   "cell_type": "code",
   "execution_count": 22,
   "metadata": {},
   "outputs": [],
   "source": [
    "import torch\n",
    "import numpy as np\n",
    "from gnn_data import GNN_DATA\n",
    "import json\n",
    "import random"
   ]
  },
  {
   "cell_type": "code",
   "execution_count": 12,
   "metadata": {},
   "outputs": [],
   "source": [
    "ppi_path = \"./protein_info/protein.actions.SHS27k.STRING.pro2.txt\"\n",
    "pseq_path = \"./protein_info/protein.SHS27k.sequences.dictionary.pro3.tsv\"\n",
    "vec_path = \"./protein_info/vec5_CTC.txt\""
   ]
  },
  {
   "cell_type": "code",
   "execution_count": 7,
   "metadata": {},
   "outputs": [
    {
     "name": "stderr",
     "output_type": "stream",
     "text": [
      "54813it [00:00, 1220638.53it/s]\n",
      "100%|██████████| 6660/6660 [00:00<00:00, 2808572.76it/s]\n",
      "100%|██████████| 6660/6660 [00:00<00:00, 4033217.53it/s]\n",
      "100%|██████████| 6660/6660 [00:00<00:00, 4091104.96it/s]\n",
      "1553it [00:00, 839834.21it/s]\n"
     ]
    },
    {
     "name": "stdout",
     "output_type": "stream",
     "text": [
      "protein num: 1553\n",
      "protein average length: 528.5151320025757\n",
      "protein max & min length: 2517, 51\n",
      "acid vector dimension: 13\n"
     ]
    },
    {
     "name": "stderr",
     "output_type": "stream",
     "text": [
      "100%|██████████| 1553/1553 [00:00<00:00, 7835.72it/s]\n",
      "100%|██████████| 1553/1553 [00:00<00:00, 5553072.56it/s]\n"
     ]
    },
    {
     "name": "stdout",
     "output_type": "stream",
     "text": [
      "Connected domain num: 20\n"
     ]
    }
   ],
   "source": [
    "ppi_data = GNN_DATA(ppi_path=ppi_path)\n",
    "ppi_data.get_feature_origin(pseq_path=pseq_path, \n",
    "                            vec_path=vec_path)\n",
    "ppi_data.generate_data()\n",
    "ppi_data.split_dataset(train_valid_index_path='./train_val_split_data/train_val_split_{}.json'.format(str(7)), \n",
    "                           random_new=False)  # 这里生成随机种子对应的数据集划分文件"
   ]
  },
  {
   "cell_type": "markdown",
   "metadata": {},
   "source": [
    "# 直接看tsv文件和txt文件"
   ]
  },
  {
   "cell_type": "code",
   "execution_count": 8,
   "metadata": {},
   "outputs": [
    {
     "name": "stdout",
     "output_type": "stream",
     "text": [
      "1553\n"
     ]
    }
   ],
   "source": [
    "f = open(pseq_path, mode='r')\n",
    "print(len(f.readlines()))  # HIGH"
   ]
  },
  {
   "cell_type": "code",
   "execution_count": 9,
   "metadata": {},
   "outputs": [
    {
     "name": "stdout",
     "output_type": "stream",
     "text": [
      "1690\n"
     ]
    }
   ],
   "source": [
    "gnn_pseq_path = '../GNN_PPI/data/protein.SHS27k.sequences.dictionary.tsv'\n",
    "f = open(gnn_pseq_path, mode='r')\n",
    "print(len(f.readlines()))  # GNN"
   ]
  },
  {
   "cell_type": "code",
   "execution_count": 10,
   "metadata": {},
   "outputs": [
    {
     "data": {
      "text/plain": [
       "54813"
      ]
     },
     "execution_count": 10,
     "metadata": {},
     "output_type": "execute_result"
    }
   ],
   "source": [
    "f = open(ppi_path, mode='r')\n",
    "len(f.readlines())  # HIGH"
   ]
  },
  {
   "cell_type": "code",
   "execution_count": 11,
   "metadata": {},
   "outputs": [
    {
     "data": {
      "text/plain": [
       "63409"
      ]
     },
     "execution_count": 11,
     "metadata": {},
     "output_type": "execute_result"
    }
   ],
   "source": [
    "gnn_ppi_path = '../GNN_PPI/data/protein.actions.SHS27k.STRING.txt'\n",
    "f = open(gnn_ppi_path, mode='r')\n",
    "len(f.readlines())  # GNN"
   ]
  },
  {
   "cell_type": "markdown",
   "metadata": {},
   "source": [
    "# OOD dataset construction"
   ]
  },
  {
   "cell_type": "code",
   "execution_count": null,
   "metadata": {},
   "outputs": [],
   "source": [
    "ppi_data = GNN_DATA(ppi_path=ppi_path)\n",
    "ppi_data.get_feature_origin(pseq_path=pseq_path, \n",
    "                            vec_path=vec_path)\n",
    "ppi_data.generate_data()"
   ]
  },
  {
   "cell_type": "markdown",
   "metadata": {},
   "source": [
    "train_valid_index_path：数据划分文件，不管是否存在"
   ]
  },
  {
   "cell_type": "markdown",
   "metadata": {},
   "source": [
    "random_new：\n",
    "\n",
    "=False就是读取之前的json文件\n",
    "\n",
    "=True就是新生成数据划分json文件"
   ]
  },
  {
   "cell_type": "code",
   "execution_count": 15,
   "metadata": {},
   "outputs": [
    {
     "name": "stdout",
     "output_type": "stream",
     "text": [
      "use bfs methed split train and valid dataset\n"
     ]
    }
   ],
   "source": [
    "train_valid_index_path = './train_val_split_data/2.json'\n",
    "ppi_data.split_dataset(train_valid_index_path, test_size=0.3, random_new=True, mode='bfs')"
   ]
  },
  {
   "cell_type": "code",
   "execution_count": 20,
   "metadata": {},
   "outputs": [
    {
     "data": {
      "text/plain": [
       "4659"
      ]
     },
     "execution_count": 20,
     "metadata": {},
     "output_type": "execute_result"
    }
   ],
   "source": [
    "f = open(train_valid_index_path)\n",
    "len(json.load(f)['train_index'])"
   ]
  },
  {
   "cell_type": "markdown",
   "metadata": {},
   "source": [
    "探索边的扰动怎么做，直接在训练集的ppi中指定比例的删除掉相应数量的边\n",
    "\n",
    "就做四个ratio。0，0.2，0.4，0.6\n",
    "\n",
    "0就是没有扰动的，PR曲线那部分已经实验出来了"
   ]
  },
  {
   "cell_type": "code",
   "execution_count": null,
   "metadata": {},
   "outputs": [],
   "source": []
  }
 ],
 "metadata": {
  "kernelspec": {
   "display_name": "HIGH-PPI",
   "language": "python",
   "name": "python3"
  },
  "language_info": {
   "codemirror_mode": {
    "name": "ipython",
    "version": 3
   },
   "file_extension": ".py",
   "mimetype": "text/x-python",
   "name": "python",
   "nbconvert_exporter": "python",
   "pygments_lexer": "ipython3",
   "version": "3.9.7"
  },
  "orig_nbformat": 4
 },
 "nbformat": 4,
 "nbformat_minor": 2
}
